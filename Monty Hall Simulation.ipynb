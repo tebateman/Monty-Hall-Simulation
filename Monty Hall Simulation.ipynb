{
 "cells": [
  {
   "cell_type": "code",
   "execution_count": 167,
   "metadata": {},
   "outputs": [],
   "source": [
    "#Load libraries\n",
    "import scipy.special\n",
    "import numpy as np\n",
    "import pandas as pd\n",
    "import matplotlib.pyplot as plt \n",
    "import math\n",
    "from sklearn.model_selection import train_test_split\n",
    "import random as rd"
   ]
  },
  {
   "cell_type": "markdown",
   "metadata": {},
   "source": [
    "# Monty Hall Problem"
   ]
  },
  {
   "cell_type": "markdown",
   "metadata": {},
   "source": [
    "The following function simulates the Monty Hall problem with both the probability of getting a car if the player stays with their original choice versus the probability of getting a car if the player switches after the presenter reveals one of the remaining doors."
   ]
  },
  {
   "cell_type": "markdown",
   "metadata": {},
   "source": [
    "Further details of the Monty Hall problem can be found on - https://en.wikipedia.org/wiki/Monty_Hall_problem"
   ]
  },
  {
   "cell_type": "code",
   "execution_count": 163,
   "metadata": {},
   "outputs": [],
   "source": [
    "def monty_sim (ite):\n",
    "    stay_total = 0\n",
    "    switch_total = 0\n",
    "    outcomes = [1,0,0] # 1 = car; 0 = goat\n",
    "    for i in range (ite):\n",
    "        rd.shuffle(outcomes) # randomly the three possible outcomes (G,G,C)\n",
    "        selection, remain = train_test_split(outcomes,test_size=0.6666666) # selection = players door selection; remain = two remaining doors\n",
    "        if sum(remain) == 1:\n",
    "            switch = 1\n",
    "            monty = 0 \n",
    "        else:\n",
    "            switch = 0\n",
    "            monty = 0\n",
    "        stay = selection[0]\n",
    "        switch_total = int(switch_total)+int(switch) \n",
    "    prob_switch = switch_total/ite # calculate the probability of getting a car if you switch\n",
    "    prob_stay = 1-prob_switch # calculate the probability of getting a car if the player sticks with the original door\n",
    "    print('The probability of getting a car after switching',round(prob_switch,3))\n",
    "    print('The probability of getting a car when staying with first choice',round(prob_stay,3))"
   ]
  },
  {
   "cell_type": "markdown",
   "metadata": {},
   "source": [
    "The below simulation with a 1,000 iterations confirms that the player should switch doors after the presenter has opened one of the remaining doors. By switching to the other door the player has a approximately 2/3s or 0.66 chance of selecting the door with the car behind compared to a probability of 1/3 or 0.34 if the player sticks with the original choice."
   ]
  },
  {
   "cell_type": "code",
   "execution_count": 164,
   "metadata": {},
   "outputs": [
    {
     "name": "stdout",
     "output_type": "stream",
     "text": [
      "The probability of getting a car after switching 0.665\n",
      "The probability of getting a car when staying with first choice 0.335\n"
     ]
    }
   ],
   "source": [
    "monty_sim(1000)"
   ]
  }
 ],
 "metadata": {
  "kernelspec": {
   "display_name": "Python 3",
   "language": "python",
   "name": "python3"
  },
  "language_info": {
   "codemirror_mode": {
    "name": "ipython",
    "version": 3
   },
   "file_extension": ".py",
   "mimetype": "text/x-python",
   "name": "python",
   "nbconvert_exporter": "python",
   "pygments_lexer": "ipython3",
   "version": "3.6.4"
  }
 },
 "nbformat": 4,
 "nbformat_minor": 2
}
